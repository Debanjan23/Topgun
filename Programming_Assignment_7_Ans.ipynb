{
 "cells": [
  {
   "cell_type": "markdown",
   "id": "10d077ba",
   "metadata": {},
   "source": [
    "1.Write a Python Program to find sum of array"
   ]
  },
  {
   "cell_type": "code",
   "execution_count": 2,
   "id": "791c1a8a",
   "metadata": {},
   "outputs": [
    {
     "name": "stdout",
     "output_type": "stream",
     "text": [
      "70\n"
     ]
    }
   ],
   "source": [
    "arr = [12,13,14,15,16]\n",
    "sum1 = 0\n",
    "for i in range(len(arr)):\n",
    "    sum1 = sum1 + arr[i]\n",
    "print(sum1)"
   ]
  },
  {
   "cell_type": "markdown",
   "id": "2e771a7b",
   "metadata": {},
   "source": [
    "2.Write a Python Program to find largest element in an array?"
   ]
  },
  {
   "cell_type": "code",
   "execution_count": 3,
   "id": "a8fd4ad0",
   "metadata": {},
   "outputs": [
    {
     "name": "stdout",
     "output_type": "stream",
     "text": [
      "100\n"
     ]
    }
   ],
   "source": [
    "arr = [12,45,67,99,100]\n",
    "highest_num = arr[0]\n",
    "for i in range(1,len(arr)):\n",
    "    if arr[i]>highest_num:\n",
    "        highest_num = arr[i]\n",
    "print(highest_num)"
   ]
  },
  {
   "cell_type": "markdown",
   "id": "3cc8b6e7",
   "metadata": {},
   "source": [
    "3.Write a Python Program for array rotation?"
   ]
  },
  {
   "cell_type": "code",
   "execution_count": 1,
   "id": "0817c3ed",
   "metadata": {},
   "outputs": [
    {
     "name": "stdout",
     "output_type": "stream",
     "text": [
      "[2, 3, 5, 6, 7, 9, 10, 1]\n"
     ]
    }
   ],
   "source": [
    "arr = [1,2,3,5,6,7,9,10]\n",
    "temp = []\n",
    "i=0\n",
    "temp = arr[0]\n",
    "n = len(arr)\n",
    "for i in range(n-1):\n",
    "    arr[i] = arr[i+1]\n",
    "arr[n-1] = temp\n",
    "print(arr)"
   ]
  },
  {
   "cell_type": "markdown",
   "id": "1841abaa",
   "metadata": {},
   "source": [
    "4. Write a Python Program to Split the array and add the first part to the end?"
   ]
  },
  {
   "cell_type": "code",
   "execution_count": 4,
   "id": "7e30fce3",
   "metadata": {},
   "outputs": [
    {
     "name": "stdout",
     "output_type": "stream",
     "text": [
      "5 6 52 36 12 10 "
     ]
    }
   ],
   "source": [
    "def Split_Array(arr, n, k): \n",
    "    for i in range(0, k): \n",
    "        x = arr[0]\n",
    "        for j in range(0, n-1):\n",
    "            arr[j] = arr[j + 1]\n",
    "          \n",
    "        arr[n-1] = x\n",
    "          \n",
    "  \n",
    "# main\n",
    "arr = [12, 10, 5, 6, 52, 36]\n",
    "n = len(arr)\n",
    "position = 2\n",
    "  \n",
    "Split_Array(arr, n, position)\n",
    "  \n",
    "for i in range(0, n): \n",
    "    print(arr[i], end = ' ')"
   ]
  },
  {
   "cell_type": "markdown",
   "id": "7495b26d",
   "metadata": {},
   "source": [
    "5.\tWrite a Python Program to check if given array is Monotonic"
   ]
  },
  {
   "cell_type": "code",
   "execution_count": 4,
   "id": "f7ae34f0",
   "metadata": {},
   "outputs": [
    {
     "name": "stdout",
     "output_type": "stream",
     "text": [
      "True\n"
     ]
    }
   ],
   "source": [
    "def check_monotonic(B):\n",
    "    return (all(B[i]<B[i+1] for i in range(len(B)-1)) or all(B[i]>B[i+1] for i in range(len(B)-1)))\n",
    "C = [1,5,6,7,8]\n",
    "print(check_monotonic(C))"
   ]
  },
  {
   "cell_type": "code",
   "execution_count": null,
   "id": "38657927",
   "metadata": {},
   "outputs": [],
   "source": []
  }
 ],
 "metadata": {
  "kernelspec": {
   "display_name": "Python 3 (ipykernel)",
   "language": "python",
   "name": "python3"
  },
  "language_info": {
   "codemirror_mode": {
    "name": "ipython",
    "version": 3
   },
   "file_extension": ".py",
   "mimetype": "text/x-python",
   "name": "python",
   "nbconvert_exporter": "python",
   "pygments_lexer": "ipython3",
   "version": "3.9.12"
  }
 },
 "nbformat": 4,
 "nbformat_minor": 5
}
