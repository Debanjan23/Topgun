{
 "cells": [
  {
   "cell_type": "markdown",
   "id": "4ef30907",
   "metadata": {},
   "source": [
    "1. Write a Python Program to Display Fibonacci Sequence Using Recursion?"
   ]
  },
  {
   "cell_type": "code",
   "execution_count": 1,
   "id": "ea405d5f",
   "metadata": {},
   "outputs": [
    {
     "name": "stdout",
     "output_type": "stream",
     "text": [
      "How mamy numbers5\n",
      "0\n",
      "1\n",
      "1\n",
      "2\n",
      "3\n"
     ]
    }
   ],
   "source": [
    "def recur_fibo(n):\n",
    "    if n<=1:\n",
    "        return n\n",
    "    else:\n",
    "        return (recur_fibo(n-1)+recur_fibo(n-2))\n",
    "\n",
    "terms = int(input(\"How mamy numbers\"))\n",
    "\n",
    "if terms<=0:\n",
    "    print(\"Please enter a positive number\")\n",
    "else:\n",
    "    for i in range(terms):\n",
    "        print(recur_fibo(i))"
   ]
  },
  {
   "cell_type": "markdown",
   "id": "78370114",
   "metadata": {},
   "source": [
    "2.\tWrite a Python Program to Find Factorial of Number Using Recursion?"
   ]
  },
  {
   "cell_type": "code",
   "execution_count": 3,
   "id": "02025077",
   "metadata": {},
   "outputs": [
    {
     "name": "stdout",
     "output_type": "stream",
     "text": [
      "Please enter the number5\n",
      "Factorial of  5  is  120\n"
     ]
    }
   ],
   "source": [
    "def recur_fact(n):\n",
    "    if n<=1:\n",
    "        return n\n",
    "    else:\n",
    "        return (n* recur_fact(n-1))\n",
    "num1 = int(input(\"Please enter the number\"))\n",
    "\n",
    "print(\"Factorial of \",num1,\" is \",recur_fact(num1))"
   ]
  },
  {
   "cell_type": "markdown",
   "id": "40731458",
   "metadata": {},
   "source": [
    "3.Write a Python Program to calculate your Body Mass Index?"
   ]
  },
  {
   "cell_type": "code",
   "execution_count": 16,
   "id": "66c74099",
   "metadata": {},
   "outputs": [
    {
     "name": "stdout",
     "output_type": "stream",
     "text": [
      "Please enter your weight in kg 110\n",
      "Please enter your height in cm 184\n",
      "Your BMI is  32.49054820415879\n",
      "You are severely over weight.\n"
     ]
    }
   ],
   "source": [
    "weight = float(input(\"Please enter your weight in kg \"))\n",
    "height = float(input(\"Please enter your height in cm \"))\n",
    "\n",
    "BMI = weight/(height/100)**2\n",
    "if BMI <= 18.4:\n",
    "    print(\"Your BMI is \", BMI)\n",
    "    print(\"You are underweight.\")\n",
    "elif BMI <= 24.9:\n",
    "    print(\"Your BMI is \", BMI)\n",
    "    print(\"You are healthy.\")\n",
    "elif BMI <= 29.9:\n",
    "    print(\"Your BMI is \", BMI)\n",
    "    print(\"You are over weight.\")\n",
    "elif BMI <= 34.9:\n",
    "    print(\"Your BMI is \", BMI)\n",
    "    print(\"You are severely over weight.\")\n",
    "elif BMI <= 39.9:\n",
    "    print(\"Your BMI is \", BMI)\n",
    "    print(\"You are obese.\")\n",
    "else:\n",
    "    print(\"Your BMI is \", BMI)\n",
    "    print(\"You are severely obese.\")"
   ]
  },
  {
   "cell_type": "markdown",
   "id": "8f5ce0b4",
   "metadata": {},
   "source": [
    "4.Write a Python Program to calculate the natural logarithm of any number?"
   ]
  },
  {
   "cell_type": "code",
   "execution_count": 9,
   "id": "c4e308be",
   "metadata": {},
   "outputs": [],
   "source": [
    "import math"
   ]
  },
  {
   "cell_type": "code",
   "execution_count": 10,
   "id": "30b8cb3e",
   "metadata": {},
   "outputs": [
    {
     "name": "stdout",
     "output_type": "stream",
     "text": [
      "Please enter the number56\n",
      "The natural logarithm of number  56  is  4.02535169073515\n"
     ]
    }
   ],
   "source": [
    "num1 = int(input(\"Please enter the number\"))\n",
    "print(\"The natural logarithm of number \",num1,\" is \",math.log(num1))"
   ]
  },
  {
   "cell_type": "markdown",
   "id": "996805a3",
   "metadata": {},
   "source": [
    "5. Write a Python Program for cube sum of first n natural numbers?"
   ]
  },
  {
   "cell_type": "code",
   "execution_count": 15,
   "id": "d4b7269a",
   "metadata": {},
   "outputs": [
    {
     "name": "stdout",
     "output_type": "stream",
     "text": [
      "Please enter the n which you would like to produce 7\n",
      "225\n"
     ]
    }
   ],
   "source": [
    "nterms = int(input(\"Please enter the n which you would like to produce \"))\n",
    "sum1 = 0\n",
    "for i in range(1, nterms-1):\n",
    "    sum1 = sum1  + pow(i,3)\n",
    "print(sum1)"
   ]
  },
  {
   "cell_type": "code",
   "execution_count": null,
   "id": "8e836914",
   "metadata": {},
   "outputs": [],
   "source": []
  }
 ],
 "metadata": {
  "kernelspec": {
   "display_name": "Python 3 (ipykernel)",
   "language": "python",
   "name": "python3"
  },
  "language_info": {
   "codemirror_mode": {
    "name": "ipython",
    "version": 3
   },
   "file_extension": ".py",
   "mimetype": "text/x-python",
   "name": "python",
   "nbconvert_exporter": "python",
   "pygments_lexer": "ipython3",
   "version": "3.9.12"
  }
 },
 "nbformat": 4,
 "nbformat_minor": 5
}
