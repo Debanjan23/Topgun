{
 "cells": [
  {
   "cell_type": "markdown",
   "id": "d1a076d8",
   "metadata": {},
   "source": [
    "1. Phython program to find LCM"
   ]
  },
  {
   "cell_type": "code",
   "execution_count": 15,
   "id": "0b9ceff0",
   "metadata": {},
   "outputs": [
    {
     "name": "stdout",
     "output_type": "stream",
     "text": [
      "Enter first number: 45\n",
      "Enter second number: 56\n",
      "The L.C.M. of 45 and 56 is 2520\n"
     ]
    }
   ],
   "source": [
    "def calculate_lcm(x, y):  \n",
    "    # selecting the greater number  \n",
    "    if x > y:  \n",
    "        greater = x  \n",
    "    else:  \n",
    "        greater = y  \n",
    "    while(True):  \n",
    "        if((greater % x == 0) and (greater % y == 0)):  \n",
    "            lcm = greater  \n",
    "            break  \n",
    "        greater += 1  \n",
    "    return lcm    \n",
    "  \n",
    "\n",
    "num1 = int(input(\"Enter first number: \"))  \n",
    "num2 = int(input(\"Enter second number: \"))  \n",
    "print(\"The L.C.M. of\", num1,\"and\", num2,\"is\", calculate_lcm(num1, num2))"
   ]
  },
  {
   "cell_type": "markdown",
   "id": "78027cea",
   "metadata": {},
   "source": [
    "2. Phython program to find HCF"
   ]
  },
  {
   "cell_type": "code",
   "execution_count": 16,
   "id": "fb0c491d",
   "metadata": {},
   "outputs": [
    {
     "name": "stdout",
     "output_type": "stream",
     "text": [
      "Enter first number: 45\n",
      "Enter second number: 56\n",
      "The HCF is 1\n"
     ]
    }
   ],
   "source": [
    "def compute_hcf(x, y):\n",
    "   while(y):\n",
    "       x, y = y, x % y\n",
    "   return x\n",
    "\n",
    "num1 = int(input(\"Enter first number: \"))  \n",
    "num2 = int(input(\"Enter second number: \"))  \n",
    "hcf = compute_hcf(num1, num2)\n",
    "print(\"The HCF is\", hcf)"
   ]
  },
  {
   "cell_type": "markdown",
   "id": "161c673c",
   "metadata": {},
   "source": [
    "3.Write a Python Program to Convert Decimal to Binary, Octal and Hexadecimal?"
   ]
  },
  {
   "cell_type": "code",
   "execution_count": 7,
   "id": "eb5c4013",
   "metadata": {},
   "outputs": [
    {
     "name": "stdout",
     "output_type": "stream",
     "text": [
      "Please enter an integer number  900\n"
     ]
    }
   ],
   "source": [
    "dec = int(input(\"Please enter an integer number  \"))"
   ]
  },
  {
   "cell_type": "code",
   "execution_count": 8,
   "id": "42719c96",
   "metadata": {},
   "outputs": [
    {
     "name": "stdout",
     "output_type": "stream",
     "text": [
      "0b1110000100 In binary\n",
      "0o1604 in octal\n",
      "0x384 in hexadecimal\n"
     ]
    }
   ],
   "source": [
    "print(bin(dec), \"In binary\")\n",
    "print(oct(dec),\"in octal\")\n",
    "print(hex(dec), \"in hexadecimal\")"
   ]
  },
  {
   "cell_type": "markdown",
   "id": "63d4b89f",
   "metadata": {},
   "source": [
    "4. Phython program to find the ascii value of a character"
   ]
  },
  {
   "cell_type": "code",
   "execution_count": 13,
   "id": "5ef4ecb2",
   "metadata": {},
   "outputs": [
    {
     "name": "stdout",
     "output_type": "stream",
     "text": [
      " Please enter a character  o\n",
      "The ASCII value of o is 111\n"
     ]
    }
   ],
   "source": [
    "K = input(\" Please enter a character  \")\n",
    "print(\"The ASCII value of \"+K+\" is\",ord(K))"
   ]
  },
  {
   "cell_type": "markdown",
   "id": "e859abff",
   "metadata": {},
   "source": [
    "5.Write a Python Program to Make a Simple Calculator with 4 basic mathematical operations?  "
   ]
  },
  {
   "cell_type": "code",
   "execution_count": 19,
   "id": "65c0ffa7",
   "metadata": {},
   "outputs": [
    {
     "name": "stdout",
     "output_type": "stream",
     "text": [
      "Please select the operation.\n",
      "a. Add\n",
      "b. Subtract\n",
      "c. Multiply\n",
      "d. Divide\n",
      "Please enter choice (a/ b/ c/ d): d\n",
      "Please enter the first number: 89\n",
      "Please enter the second number: 75\n",
      "89  /  75  =  1.1866666666666668\n"
     ]
    }
   ],
   "source": [
    "def add(X, Y):    \n",
    "     return X + Y   \n",
    "def subtract(X, Y):      \n",
    "    return X - Y   \n",
    "def multiply(X, Y):   \n",
    "     return X * Y   \n",
    "def divide(X, Y):   \n",
    "    return X / Y    \n",
    "# Now we will take inputs from the user    \n",
    "print (\"Please select the operation.\")    \n",
    "print (\"a. Add\")    \n",
    "print (\"b. Subtract\")    \n",
    "print (\"c. Multiply\")    \n",
    "print (\"d. Divide\")    \n",
    "    \n",
    "choice = input(\"Please enter choice (a/ b/ c/ d): \")    \n",
    "    \n",
    "num_1 = int (input (\"Please enter the first number: \"))    \n",
    "num_2 = int (input (\"Please enter the second number: \"))    \n",
    "    \n",
    "if choice == 'a':    \n",
    "   print (num_1, \" + \", num_2, \" = \", add(num_1, num_2))    \n",
    "    \n",
    "elif choice == 'b':    \n",
    "   print (num_1, \" - \", num_2, \" = \", subtract(num_1, num_2))    \n",
    "    \n",
    "elif choice == 'c':    \n",
    "   print (num1, \" * \", num2, \" = \", multiply(num1, num2))    \n",
    "elif choice == 'd':    \n",
    "   print (num_1, \" / \", num_2, \" = \", divide(num_1, num_2))    \n",
    "else:    \n",
    "   print (\"This is an invalid input\")    "
   ]
  },
  {
   "cell_type": "code",
   "execution_count": null,
   "id": "e474e33d",
   "metadata": {},
   "outputs": [],
   "source": []
  }
 ],
 "metadata": {
  "kernelspec": {
   "display_name": "Python 3 (ipykernel)",
   "language": "python",
   "name": "python3"
  },
  "language_info": {
   "codemirror_mode": {
    "name": "ipython",
    "version": 3
   },
   "file_extension": ".py",
   "mimetype": "text/x-python",
   "name": "python",
   "nbconvert_exporter": "python",
   "pygments_lexer": "ipython3",
   "version": "3.9.12"
  }
 },
 "nbformat": 4,
 "nbformat_minor": 5
}
